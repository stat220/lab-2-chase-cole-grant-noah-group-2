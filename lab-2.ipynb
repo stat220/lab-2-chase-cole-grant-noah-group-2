{
 "cells": [
  {
   "cell_type": "code",
   "execution_count": 65,
   "metadata": {},
   "outputs": [],
   "source": [
    "import itertools\n",
    "import pandas as pd\n",
    "import numpy as np\n",
    "\n",
    "def dice_probability_A(sides, n_rolls, target):\n",
    "    # List out all possible rolls\n",
    "    rolls = list(itertools.product(range(1, sides+1), repeat=n_rolls))\n",
    "\n",
    "    # Find the sum of all possible rolls\n",
    "    sums = np.array([sum(roll) for roll in rolls])\n",
    "\n",
    "    # Find the proportion of those sums that are greater than or equal to the target\n",
    "    return np.mean(sums >= target)\n",
    "\n",
    "\n",
    "def dice_probability_B(sides, n_rolls, target):\n",
    "    # List out all possible rolls\n",
    "    rolls = list(itertools.product(range(1, sides+1), repeat=n_rolls))\n",
    "\n",
    "    # Get the total number of rolls that contain a number greater than or equal to the target\n",
    "    # Dynamic for n_rolls\n",
    "    target_rolls = [[str(a) for a in roll if target <= a] for roll in rolls]\n",
    "    \n",
    "    # Gets rid of excess spaces and only has numbers greater than or equal to the target\n",
    "    target_rolls = ' '.join([''.join(roll) for roll in target_rolls if roll != '' ]).split()\n",
    "\n",
    "    # Divides the number of rolls greater than or equal to the target against the total rolls\n",
    "    return len(target_rolls) / len(rolls)"
   ]
  },
  {
   "cell_type": "markdown",
   "metadata": {},
   "source": [
    "# Situation A\n",
    "Calculating the probability of rolling m dice, each with n sides, and having the sum of the dice be greater than x. \n",
    "\n",
    "This calculation should only be implemented for m = 1 through 4 and n is at most 20"
   ]
  },
  {
   "cell_type": "code",
   "execution_count": 66,
   "metadata": {},
   "outputs": [
    {
     "name": "stdout",
     "output_type": "stream",
     "text": [
      "Roll 1d20 and get a result of 17 or more: 20.00%\n",
      "Roll 3d4 and get a result of 10 or more: 15.62%\n"
     ]
    }
   ],
   "source": [
    "d_20 = dice_probability_A(20, 1, 17) * 100\n",
    "print(f'Roll 1d20 and get a result of 17 or more: {d_20:.2f}%')\n",
    "\n",
    "d_4 = dice_probability_A(4, 3, 10) * 100\n",
    "print(f'Roll 3d4 and get a result of 10 or more: {d_4:.2f}%')"
   ]
  },
  {
   "cell_type": "markdown",
   "metadata": {},
   "source": [
    "# Situation B\n",
    "Determining the probability of rolling m dice, each with n sides, and having at least one die show a value greater than or equal to x"
   ]
  },
  {
   "cell_type": "code",
   "execution_count": 72,
   "metadata": {},
   "outputs": [
    {
     "name": "stdout",
     "output_type": "stream",
     "text": [
      "Roll 4d6 and have at least one dice show a 6: 51.77%\n"
     ]
    }
   ],
   "source": [
    "d_6 = dice_probability_B(6, 4, 6) * 100\n",
    "print(f'Roll 4d6 and have at least one dice show a 6: {d_6:.2f}%')"
   ]
  },
  {
   "cell_type": "markdown",
   "metadata": {},
   "source": [
    "The highest probability will be rolling 4d6 and getting at least one 6 with a 51.77% chance of happening compared to a 20% chance of rolling 1d20 and getting a 17 or higher and 15.62% change of rolling 3d4 and getting 10 or more"
   ]
  },
  {
   "cell_type": "code",
   "execution_count": null,
   "metadata": {},
   "outputs": [],
   "source": []
  }
 ],
 "metadata": {
  "kernelspec": {
   "display_name": "ML",
   "language": "python",
   "name": "python3"
  },
  "language_info": {
   "codemirror_mode": {
    "name": "ipython",
    "version": 3
   },
   "file_extension": ".py",
   "mimetype": "text/x-python",
   "name": "python",
   "nbconvert_exporter": "python",
   "pygments_lexer": "ipython3",
   "version": "3.11.7"
  }
 },
 "nbformat": 4,
 "nbformat_minor": 2
}
